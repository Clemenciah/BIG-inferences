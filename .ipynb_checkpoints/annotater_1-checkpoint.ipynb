{
 "cells": [
  {
   "cell_type": "code",
   "execution_count": 1,
   "metadata": {},
   "outputs": [],
   "source": [
    "import os\n",
    "import sys\n",
    "sys.path.append(os.path.abspath(\"generate_passages.py\"))\n",
    "from generate_passages import *"
   ]
  },
  {
   "cell_type": "code",
   "execution_count": 2,
   "metadata": {},
   "outputs": [
    {
     "name": "stdout",
     "output_type": "stream",
     "text": [
      "Title: The American, Filename: 177-0.txt\n",
      "0: Christopher Newman --> friend --> Lizzie Tristram\n",
      "1: Tom Tristram --> husband/wife --> Lizzie Tristram\n",
      "2: Lizzie Tristram --> friend --> Christopher Newman\n",
      "3: Noémie Nioche --> person offering service to client --> Christopher Newman\n",
      "4: Claire de Bellegarde (the Comtesse de Cintré) --> friend --> Lizzie Tristram\n",
      "5: Urbain de Bellegarde (the young Marquis de Bellegarde) --> husband/wife --> The young Marquise de Bellegarde\n",
      "6: Valentin de Bellegarde (the young Comte de Bellegarde) --> friend --> Christopher Newman\n",
      "7: The Marquise de Bellegarde --> parent --> Urbain de Bellegarde (the young Marquis de Bellegarde)\n",
      "\n"
     ]
    }
   ],
   "source": [
    "# Enter book title, and filename in data/books/_filename.txt_\n",
    "book1 = Book(\"The American\", \"177-0.txt\")\n",
    "print(book1)\n",
    "book1.present_relations()"
   ]
  },
  {
   "cell_type": "code",
   "execution_count": 3,
   "metadata": {},
   "outputs": [],
   "source": [
    "# Create generator object for specific relation. \n",
    "gen = book1.passage_generator(rel_index=1, padding=5)"
   ]
  },
  {
   "cell_type": "code",
   "execution_count": 4,
   "metadata": {},
   "outputs": [
    {
     "name": "stdout",
     "output_type": "stream",
     "text": [
      "1 of 410\n",
      "From 214 to 214\n",
      "You were in the army.”\n",
      "\n",
      "“Oh no, not I! But you were.”\n",
      "\n",
      "“I believe I was.”\n",
      "\n",
      "“You came out all right?”\n",
      "\n",
      "“I came out with my legs and arms—and with satisfaction. All that seems\n",
      "very far away.”\n",
      "\n",
      "“And how long have you been in Europe?”\n",
      "\n",
      "“Seventeen days.”\n",
      "\n",
      "“First time?”\n",
      "\n",
      "“Yes, very much so.”\n",
      "\n",
      "“Made your everlasting fortune?”\n",
      "\n",
      "Christopher Newman was silent a moment, and then with a tranquil smile\n",
      "he answered, “Yes.”\n",
      "\n",
      "“And come to Paris to spend it, eh?”\n",
      "\n",
      "“Well, we shall see. So they carry those parasols here—the men-folk?”\n",
      "\n",
      "“Of course they do. They’re great things. They understand comfort out\n",
      "here.”\n",
      "\n",
      "“Where do you buy them?”\n",
      "\n",
      "“Anywhere, everywhere.”\n",
      "\n",
      "“Well, Tristram, I’m glad to get hold of you. You can show me the\n",
      "ropes. I suppose you know Paris inside out.”\n",
      "\n",
      "Mr. Tristram gave a mellow smile of self-gratulation. “Well, I guess\n",
      "there are not many men that can show me much. I’ll take care of you.”\n",
      "\n",
      "“It’s a pity you were not here a few minutes ago.\n"
     ]
    }
   ],
   "source": [
    "print(book1.get_passage(next(gen)))"
   ]
  },
  {
   "cell_type": "code",
   "execution_count": null,
   "metadata": {},
   "outputs": [],
   "source": []
  }
 ],
 "metadata": {
  "kernelspec": {
   "display_name": "Python 3",
   "language": "python",
   "name": "python3"
  },
  "language_info": {
   "codemirror_mode": {
    "name": "ipython",
    "version": 3
   },
   "file_extension": ".py",
   "mimetype": "text/x-python",
   "name": "python",
   "nbconvert_exporter": "python",
   "pygments_lexer": "ipython3",
   "version": "3.6.9"
  }
 },
 "nbformat": 4,
 "nbformat_minor": 5
}
