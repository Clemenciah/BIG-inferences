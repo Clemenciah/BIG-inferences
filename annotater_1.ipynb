{
 "cells": [
  {
   "cell_type": "code",
   "execution_count": 63,
   "metadata": {},
   "outputs": [],
   "source": [
    "import os\n",
    "import sys\n",
    "sys.path.append(os.path.abspath(\"generate_passages.py\"))\n",
    "from generate_passages import *"
   ]
  },
  {
   "cell_type": "code",
   "execution_count": 64,
   "metadata": {},
   "outputs": [
    {
     "name": "stdout",
     "output_type": "stream",
     "text": [
      "Title: The American, Filename: 177-0.txt\n",
      "0.0: Christopher Newman --> acquaintance --> Tom Tristram\n",
      "0.1: Christopher Newman --> acquaintance --> Tom Tristram\n",
      "0.2: Christopher Newman --> friend --> Lizzie Tristram\n",
      "1.0: Tom Tristram --> husband/wife --> Lizzie Tristram\n",
      "1.1: Tom Tristram --> husband/wife --> Lizzie Tristram\n",
      "2.0: Lizzie Tristram --> friend --> Christopher Newman\n",
      "3.0: Noémie Nioche --> person offering service to client --> Christopher Newman\n",
      "3.1: Noémie Nioche --> person offering service to client --> Christopher Newman\n",
      "4.0: Claire de Bellegarde (the Comtesse de Cintré) --> child --> The Marquise de Bellegarde\n",
      "4.1: Claire de Bellegarde (the Comtesse de Cintré) --> child --> The Marquis de Bellegarde\n",
      "4.2: Claire de Bellegarde (the Comtesse de Cintré) --> lovers --> Christopher Newman\n",
      "4.3: Claire de Bellegarde (the Comtesse de Cintré) --> friend --> Lizzie Tristram\n",
      "4.4: Claire de Bellegarde (the Comtesse de Cintré) --> unrequited love interest --> Christopher Newman\n",
      "4.5: Claire de Bellegarde (the Comtesse de Cintré) --> friend --> Lizzie Tristram\n",
      "5.0: Urbain de Bellegarde (the young Marquis de Bellegarde) --> brother/sister --> Claire de Bellegarde (the Comtesse de Cintré)\n",
      "5.1: Urbain de Bellegarde (the young Marquis de Bellegarde) --> husband/wife --> The young Marquise de Bellegarde\n",
      "6.0: Valentin de Bellegarde (the young Comte de Bellegarde) --> brother/sister --> Claire de Bellegarde (the Comtesse de Cintré)\n",
      "6.1: Valentin de Bellegarde (the young Comte de Bellegarde) --> friend --> Christopher Newman\n",
      "7.0: The Marquise de Bellegarde --> enemy --> Christopher Newman\n",
      "7.1: The Marquise de Bellegarde --> parent --> Urbain de Bellegarde (the young Marquis de Bellegarde)\n",
      "\n"
     ]
    }
   ],
   "source": [
    "# Enter book title, and filename in data/books/_filename.txt_\n",
    "book1 = Book(\"The American\", \"177-0.txt\")\n",
    "print(book1)\n",
    "book1.present_relations()"
   ]
  },
  {
   "cell_type": "code",
   "execution_count": 107,
   "metadata": {},
   "outputs": [],
   "source": [
    "# Create generator object for specific relation. \n",
    "gen = book1.passage_generator(rel_index=\"7.1\", padding=5)"
   ]
  },
  {
   "cell_type": "code",
   "execution_count": 204,
   "metadata": {},
   "outputs": [
    {
     "name": "stdout",
     "output_type": "stream",
     "text": [
      "97 of 3253\n",
      "From 198 to 199\n",
      "His reflections quickened his good-humor, and he\n",
      "was on the point of approaching the young man with another “_Combien?_”\n",
      "Two or three facts in this relation are noticeable, although the\n",
      "logical chain which connects them may seem imperfect. He knew\n",
      "Mademoiselle Nioche had asked too much; he bore her no grudge for doing\n",
      "so, and he was determined to pay the young man exactly the proper sum. At this moment, however, his attention was attracted by a gentleman who\n",
      "had come from another part of the room and whose manner was that of a\n",
      "stranger to the gallery, although he was equipped with neither\n",
      "guide-book nor opera-glass. He carried a white sun-umbrella, lined with\n",
      "blue silk, and he strolled in front of the Paul Veronese, vaguely\n",
      "looking at it, but much too near to see anything but the grain of the\n",
      "canvas. Opposite to Christopher Newman he paused and turned, and then\n",
      "our friend, who had been observing him, had a chance to verify a\n",
      "suspicion aroused by an imperfect view of his face. The result of this\n",
      "larger scrutiny was that he presently sprang to his feet, strode across\n",
      "the room, and, with an outstretched hand, arrested the gentleman with\n",
      "the blue-lined umbrella. The latter stared, but put out his hand at a\n",
      "venture. He was corpulent and rosy, and though his countenance, which\n",
      "was ornamented with a beautiful flaxen beard, carefully divided in the\n",
      "middle and brushed outward at the sides, was not remarkable for\n",
      "intensity of expression, he looked like a person who would willingly\n",
      "shake hands with anyone. I know not what Newman thought of his face,\n",
      "but he found a want of response in his grasp. “Oh, come, come,” he said, laughing; “don’t say, now, you don’t know\n",
      "me—if I have _not_ got a white parasol!”\n",
      "\n",
      "The sound of his voice quickened the other’s memory, his face expanded\n",
      "to its fullest capacity, and he also broke into a laugh. “Why,\n",
      "Newman—I’ll be blowed!\n"
     ]
    }
   ],
   "source": [
    "print(book1.get_passage(next(gen)))"
   ]
  },
  {
   "cell_type": "code",
   "execution_count": null,
   "metadata": {},
   "outputs": [],
   "source": []
  },
  {
   "cell_type": "code",
   "execution_count": null,
   "metadata": {},
   "outputs": [],
   "source": []
  }
 ],
 "metadata": {
  "kernelspec": {
   "display_name": "Python 3",
   "language": "python",
   "name": "python3"
  },
  "language_info": {
   "codemirror_mode": {
    "name": "ipython",
    "version": 3
   },
   "file_extension": ".py",
   "mimetype": "text/x-python",
   "name": "python",
   "nbconvert_exporter": "python",
   "pygments_lexer": "ipython3",
   "version": "3.6.9"
  }
 },
 "nbformat": 4,
 "nbformat_minor": 5
}
