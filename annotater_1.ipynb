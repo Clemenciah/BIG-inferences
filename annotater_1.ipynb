{
 "cells": [
  {
   "cell_type": "code",
   "execution_count": 51,
   "id": "f61ef17a",
   "metadata": {},
   "outputs": [],
   "source": [
    "import os\n",
    "import sys\n",
    "sys.path.append(os.path.abspath(\"generate_passages.py\"))\n",
    "from generate_passages import *"
   ]
  },
  {
   "cell_type": "code",
   "execution_count": null,
   "id": "d559fa99",
   "metadata": {
    "scrolled": false
   },
   "outputs": [],
   "source": [
    "# Enter book title, and filename in data/books/_filename.txt_\n",
    "book1 = Book(\"Pride and Prejudice\", \"1342-0.txt\")\n",
    "print(book1)\n",
    "book1.present_relations()"
   ]
  },
  {
   "cell_type": "code",
   "execution_count": 465,
   "id": "00eb4f7f",
   "metadata": {},
   "outputs": [],
   "source": [
    "# Create generator object for specific relation. \n",
    "gen = book1.passage_generator(rel_index=\"3.1\", padding=5)"
   ]
  },
  {
   "cell_type": "code",
   "execution_count": 881,
   "id": "a2c16f8b",
   "metadata": {
    "scrolled": false
   },
   "outputs": [
    {
     "name": "stdout",
     "output_type": "stream",
     "text": [
      "416 of 854\n",
      "From 1431 to 1440\n",
      "They\n",
      "      will ruin your happiness. You do not make allowance enough for\n",
      "      difference of situation and temper. Consider Mr. Collins’s\n",
      "      respectability, and Charlotte’s steady, prudent character. Remember that she is one of a large family; that as to fortune,\n",
      "      it is a most eligible match; and be ready to believe, for\n",
      "      everybody’s sake, that she may feel something like regard and\n",
      "      esteem for our cousin.”\n",
      "\n",
      "      “To oblige you, I would try to believe almost anything, but no\n",
      "      one else could be benefited by such a belief as this; for were I\n",
      "      persuaded that Charlotte had any regard for him, I should only\n",
      "      think worse of her understanding than I now do of her heart. My\n",
      "      dear Jane, Mr. Collins is a conceited, pompous, narrow-minded,\n",
      "      silly man; you know he is, as well as I do; and you must feel, as\n",
      "      well as I do, that the woman who married him cannot have a proper\n",
      "      way of thinking. You shall not defend her, though it is Charlotte\n",
      "      Lucas. You shall not, for the sake of one individual, change the\n",
      "      meaning of principle and integrity, nor endeavour to persuade\n",
      "      yourself or me, that selfishness is prudence, and insensibility\n",
      "      of danger security for happiness.”\n",
      "\n",
      "      “I must think your language too strong in speaking of both,”\n",
      "      replied Jane; “and I hope you will be convinced of it by seeing\n",
      "      them happy together. But enough of this. You alluded to something\n",
      "      else. You mentioned _two_ instances. I cannot misunderstand you,\n",
      "      but I entreat you, dear Lizzy, not to pain me by thinking _that\n",
      "      person_ to blame, and saying your opinion of him is sunk. We must\n",
      "      not be so ready to fancy ourselves intentionally injured. We must\n",
      "      not expect a lively young man to be always so guarded and\n",
      "      circumspect. It is very often nothing but our own vanity that\n",
      "      deceives us. Women fancy admiration means more than it does.”\n",
      "\n",
      "      “And men take care that they should.”\n",
      "\n",
      "      “If it is designedly done, they cannot be justified; but I have\n",
      "      no idea of there being so much design in the world as some\n",
      "      persons imagine.”\n",
      "\n",
      "      “I am far from attributing any part of Mr. Bingley’s conduct to\n",
      "      design,” said Elizabeth; “but without scheming to do wrong, or to\n",
      "      make others unhappy, there may be error, and there may be misery. Thoughtlessness, want of attention to other people’s feelings,\n",
      "      and want of resolution, will do the business.”\n",
      "\n",
      "      “And do you impute it to either of those?”\n",
      "\n",
      "      “Yes; to the last. But if I go on, I shall displease you by\n",
      "      saying what I think of persons you esteem. Stop me whilst you\n",
      "      can.”\n",
      "\n",
      "      “You persist, then, in supposing his sisters influence him?”\n",
      "\n",
      "      “Yes, in conjunction with his friend.”\n",
      "\n",
      "      “I cannot believe it. Why should they try to influence him?\n"
     ]
    }
   ],
   "source": [
    "print(book1.get_passage(next(gen)))"
   ]
  },
  {
   "cell_type": "code",
   "execution_count": null,
   "id": "a904bd92",
   "metadata": {},
   "outputs": [],
   "source": []
  },
  {
   "cell_type": "code",
   "execution_count": null,
   "id": "3bbba03e",
   "metadata": {},
   "outputs": [],
   "source": []
  }
 ],
 "metadata": {
  "kernelspec": {
   "display_name": "Python 3",
   "language": "python",
   "name": "python3"
  },
  "language_info": {
   "codemirror_mode": {
    "name": "ipython",
    "version": 3
   },
   "file_extension": ".py",
   "mimetype": "text/x-python",
   "name": "python",
   "nbconvert_exporter": "python",
   "pygments_lexer": "ipython3",
   "version": "3.9.2"
  }
 },
 "nbformat": 4,
 "nbformat_minor": 5
}
