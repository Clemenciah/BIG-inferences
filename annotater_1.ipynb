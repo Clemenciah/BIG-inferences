{
 "cells": [
  {
   "cell_type": "code",
   "execution_count": null,
   "id": "f61ef17a",
   "metadata": {},
   "outputs": [],
   "source": [
    "import os\n",
    "import sys\n",
    "sys.path.append(os.path.abspath(\"generate_passages.py\"))\n",
    "from generate_passages import *"
   ]
  },
  {
   "cell_type": "code",
   "execution_count": null,
   "id": "d559fa99",
   "metadata": {},
   "outputs": [],
   "source": [
    "# Enter book title, and filename in data/books/_filename.txt_\n",
    "book1 = Book(\"The American\", \"177-0.txt\")\n",
    "print(book1)\n",
    "book1.present_relations()"
   ]
  },
  {
   "cell_type": "code",
   "execution_count": null,
   "id": "00eb4f7f",
   "metadata": {},
   "outputs": [],
   "source": [
    "# Create generator object for specific relation. \n",
    "gen = book1.passage_generator(rel_index=\"2.0\", padding=5)"
   ]
  },
  {
   "cell_type": "code",
   "execution_count": null,
   "id": "a2c16f8b",
   "metadata": {},
   "outputs": [],
   "source": [
    "print(book1.get_passage(next(gen)))"
   ]
  },
  {
   "cell_type": "code",
   "execution_count": null,
   "id": "a904bd92",
   "metadata": {},
   "outputs": [],
   "source": []
  }
 ],
 "metadata": {
  "kernelspec": {
   "display_name": "Python 3",
   "language": "python",
   "name": "python3"
  },
  "language_info": {
   "codemirror_mode": {
    "name": "ipython",
    "version": 3
   },
   "file_extension": ".py",
   "mimetype": "text/x-python",
   "name": "python",
   "nbconvert_exporter": "python",
   "pygments_lexer": "ipython3",
   "version": "3.9.2"
  }
 },
 "nbformat": 4,
 "nbformat_minor": 5
}
