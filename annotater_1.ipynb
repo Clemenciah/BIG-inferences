{
 "cells": [
  {
   "cell_type": "code",
   "execution_count": 1,
   "id": "c83a896c",
   "metadata": {},
   "outputs": [],
   "source": [
    "import os\n",
    "import sys\n",
    "sys.path.append(os.path.abspath(\"generate_passages.py\"))\n",
    "from generate_passages import *"
   ]
  },
  {
   "cell_type": "code",
   "execution_count": 2,
   "id": "88006a73",
   "metadata": {},
   "outputs": [
    {
     "name": "stdout",
     "output_type": "stream",
     "text": [
      "Title: Pride and Prejudice, Filename: 1342-0.txt\n",
      "0.0: Elizabeth Bennet --> lovers --> Fitzwilliam Darcy\n",
      "0.1: Elizabeth Bennet --> brother/sister --> Jane Bennet\n",
      "0.2: Elizabeth Bennet --> child --> Mr. Bennet\n",
      "1.0: Fitzwilliam Darcy --> friend --> Charles Bingley\n",
      "1.1: Fitzwilliam Darcy --> niece/nephew --> Lady Catherine de Bourgh\n",
      "2.0: Jane Bennet --> lovers --> Charles Bingley\n",
      "2.1: Jane Bennet --> brother/sister --> Elizabeth Bennet\n",
      "3.0: Charlotte Lucas --> friend --> Elizabeth Bennet\n",
      "3.1: Charlotte Lucas --> husband/wife --> Mr. Collins\n",
      "3.2: Charlotte Lucas --> friend --> Elizabeth Bennet\n",
      "4.0: Miss Bingley --> acquaintance --> Jane Bennet\n",
      "4.1: Miss Bingley --> brother/sister --> Charles Bingley\n",
      "5.0: Georgiana Darcy --> brother/sister --> Fitzwilliam Darcy\n",
      "6.0: Lydia Bennet --> husband/wife --> George Wickham\n",
      "6.1: Lydia Bennet --> brother/sister --> Jane Bennet\n",
      "7.0: Lady Catherine de Bourgh --> acquaintance --> Elizabeth Bennet\n",
      "8.0: Charles Bingley --> friend --> Georgiana Darcy\n",
      "9.0: Mr. Bennet --> husband/wife --> Mrs. Bennet\n",
      "10.0: George Wickham --> lovers --> Fitzwilliam Darcy\n",
      "11.0: Mr. and Mrs. Gardiner --> step-parent --> Elizabeth Bennet\n",
      "\n"
     ]
    }
   ],
   "source": [
    "# Enter book title, and filename in data/books/_filename.txt_\n",
    "book1 = Book(\"Pride and Prejudice\", \"1342-0.txt\")\n",
    "print(book1)\n",
    "book1.present_relations()"
   ]
  },
  {
   "cell_type": "code",
   "execution_count": 68,
   "id": "6d3e1095",
   "metadata": {},
   "outputs": [],
   "source": [
    "# Create generator object for specific relation. \n",
    "gen = book1.passage_generator(rel_index=\"2.1\")"
   ]
  },
  {
   "cell_type": "code",
   "execution_count": 115,
   "id": "c709f466",
   "metadata": {
    "scrolled": false
   },
   "outputs": [
    {
     "name": "stdout",
     "output_type": "stream",
     "text": [
      "Match 47 of 684\n",
      "Pride relates more to our opinion of ourselves,\n",
      "      vanity to what we would have others think of us.”\n",
      "\n",
      "      “If I were as rich as Mr. Darcy,” cried a young Lucas, who came\n",
      "      with his sisters, “I should not care how proud I was. I would\n",
      "      keep a pack of foxhounds, and drink a bottle of wine a day.”\n",
      "\n",
      "      “Then you would drink a great deal more than you ought,” said\n",
      "      Mrs. Bennet; “and if I were to see you at it, I should take away\n",
      "      your bottle directly.”\n",
      "\n",
      "      The boy protested that she should not; she continued to declare\n",
      "      that she would, and the argument ended only with the visit. Chapter 6\n",
      "\n",
      "      The ladies of Longbourn soon waited on those of Netherfield. The\n",
      "      visit was soon returned in due form. Miss Bennet’s pleasing\n",
      "      manners grew on the goodwill of Mrs. Hurst and Miss Bingley; and\n",
      "      though the mother was found to be intolerable, and the younger\n",
      "      sisters not worth speaking to, a wish of being better acquainted\n",
      "      with _them_ was expressed towards the two eldest. By \u001b[35mJane\u001b[0m, this\n",
      "      attention was received with the greatest pleasure, but \u001b[32mElizabeth\u001b[0m\n",
      "      still saw superciliousness in their treatment of everybody,\n",
      "      hardly excepting even her sister, and could not like them; though\n",
      "      their kindness to Jane, such as it was, had a value as arising in\n",
      "      all probability from the influence of their brother’s admiration. It was generally evident whenever they met, that he _did_ admire\n",
      "      her and to _her_ it was equally evident that Jane was yielding to\n",
      "      the preference which she had begun to entertain for him from the\n",
      "      first, and was in a way to be very much in love; but she\n",
      "      considered with pleasure that it was not likely to be discovered\n",
      "      by the world in general, since Jane united, with great strength\n",
      "      of feeling, a composure of temper and a uniform cheerfulness of\n",
      "      manner which would guard her from the suspicions of the\n",
      "      impertinent. She mentioned this to her friend Miss Lucas. “It may perhaps be pleasant,” replied Charlotte, “to be able to\n",
      "      impose on the public in such a case; but it is sometimes a\n",
      "      disadvantage to be so very guarded. If a woman conceals her\n",
      "      affection with the same skill from the object of it, she may lose\n",
      "      the opportunity of fixing him; and it will then be but poor\n",
      "      consolation to believe the world equally in the dark.\n"
     ]
    }
   ],
   "source": [
    "print(book1.get_passage(next(gen)))"
   ]
  },
  {
   "cell_type": "code",
   "execution_count": null,
   "id": "4d63510f",
   "metadata": {},
   "outputs": [],
   "source": []
  },
  {
   "cell_type": "code",
   "execution_count": null,
   "id": "1afe8240",
   "metadata": {},
   "outputs": [],
   "source": []
  },
  {
   "cell_type": "code",
   "execution_count": null,
   "id": "3bbba03e",
   "metadata": {},
   "outputs": [],
   "source": []
  }
 ],
 "metadata": {
  "kernelspec": {
   "display_name": "Python 3",
   "language": "python",
   "name": "python3"
  },
  "language_info": {
   "codemirror_mode": {
    "name": "ipython",
    "version": 3
   },
   "file_extension": ".py",
   "mimetype": "text/x-python",
   "name": "python",
   "nbconvert_exporter": "python",
   "pygments_lexer": "ipython3",
   "version": "3.9.2"
  }
 },
 "nbformat": 4,
 "nbformat_minor": 5
}
